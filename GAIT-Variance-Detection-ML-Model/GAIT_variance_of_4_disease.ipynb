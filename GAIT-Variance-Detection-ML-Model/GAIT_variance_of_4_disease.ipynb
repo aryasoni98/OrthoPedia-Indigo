{
  "cells": [
    {
      "cell_type": "code",
      "execution_count": null,
      "metadata": {
        "id": "MzHp-_jv6Jph"
      },
      "outputs": [],
      "source": [
        "import pandas as pd\n",
        "from scipy.stats import variation\n",
        "import os\n",
        "from IPython.display import clear_output"
      ]
    },
    {
      "cell_type": "code",
      "execution_count": null,
      "metadata": {
        "id": "TXtVfPqb6Jpi"
      },
      "outputs": [],
      "source": [
        "files =[]\n",
        "for file in os.listdir():\n",
        "    if file[-3:]=='.ts':\n",
        "        files.append(file)"
      ]
    },
    {
      "cell_type": "markdown",
      "metadata": {
        "id": "1jJFJKrJ6Jpj"
      },
      "source": [
        "# amyotrophic lateral sclerosis"
      ]
    },
    {
      "cell_type": "code",
      "execution_count": null,
      "metadata": {
        "id": "VM9B9uK86Jpk",
        "outputId": "caf4e2ee-294c-4d07-9580-c728a6e86156"
      },
      "outputs": [
        {
          "name": "stdout",
          "output_type": "stream",
          "text": [
            "left: 0.25735314485013205  right: 0.25922221946177615\n",
            "left: 0.030270667931379586  right: 0.029045751479682885\n",
            "left: 0.050796476516293425  right: 0.04649185495397702\n",
            "left: 2.539758202237438  right: 2.545466491142183\n",
            "left: 0.060915102438184064  right: 0.06277794042102716\n",
            "left: 0.018407001122083554  right: 0.01772676448634642\n",
            "left: 0.3710981832156346  right: 0.40214760100438857\n",
            "left: 1.5711866551419738  right: 1.509066929450033\n",
            "left: 0.42920065056658563  right: 0.07021897890017156\n",
            "left: 0.06487601120604025  right: 0.06642603283134764\n",
            "left: 0.07349456828653916  right: 0.0693269823153503\n",
            "left: 0.061332085610200024  right: 0.06032116610035851\n",
            "left: 0.06439749861251866  right: 0.12372436656275987\n"
          ]
        }
      ],
      "source": [
        "for i in files[:13]:\n",
        "    df =pd.read_csv(i)\n",
        "    df = df[df.columns[0]].str.split('\\t',expand=True)\n",
        "    la = df.iloc[:,1].values\n",
        "    la = [float(x) for x in la]\n",
        "    ra = df.iloc[:,2].values\n",
        "    ra = [float(x) for x in ra]\n",
        "    print(f'left: {variation(la)}  right: {variation(ra)}')"
      ]
    },
    {
      "cell_type": "markdown",
      "metadata": {
        "id": "CNzf_65I6Jpm"
      },
      "source": [
        "# Healthy"
      ]
    },
    {
      "cell_type": "code",
      "execution_count": null,
      "metadata": {
        "id": "aTpdiwFY6Jpm",
        "outputId": "6de72b65-4928-4da9-e25e-9019e0c13ae1"
      },
      "outputs": [
        {
          "name": "stdout",
          "output_type": "stream",
          "text": [
            "left: 0.03813404201784212  right: 0.03523608320411002\n",
            "left: 0.041846460555518224  right: 0.03933363008813351\n",
            "left: 0.035605150588750835  right: 0.03557265836351206\n",
            "left: 0.06494066118784435  right: 0.05092380528556695\n",
            "left: 0.03514820592821054  right: 0.03774242450520373\n",
            "left: 0.04461067150301747  right: 0.04758716524875915\n",
            "left: 0.04979828708542676  right: 0.050255119200008413\n",
            "left: 0.07446551252499407  right: 0.0691458579517221\n",
            "left: 0.0947858577041264  right: 0.04598720357209711\n",
            "left: 0.030150016075363734  right: 0.03358357439692487\n",
            "left: 0.019050645014272505  right: 0.019043607093121924\n",
            "left: 0.04882154937549172  right: 0.04832543571839796\n",
            "left: 0.029069838491632007  right: 0.029161508847518385\n",
            "left: 0.02848006191892022  right: 0.028687322869053643\n",
            "left: 0.03779149206712207  right: 0.036847129156861065\n",
            "left: 0.03684658176318458  right: 0.038035772580321876\n"
          ]
        }
      ],
      "source": [
        "for i in files[13:29]:\n",
        "    df =pd.read_csv(i)\n",
        "    df = df[df.columns[0]].str.split('\\t',expand=True)\n",
        "    la = df.iloc[:,1].values\n",
        "    la = [float(x) for x in la]\n",
        "    ra = df.iloc[:,2].values\n",
        "    ra = [float(x) for x in ra]\n",
        "    print(f'left: {variation(la)}  right: {variation(ra)}')"
      ]
    },
    {
      "cell_type": "markdown",
      "metadata": {
        "id": "c3fFklXg6Jpn"
      },
      "source": [
        "# Huntington's disease"
      ]
    },
    {
      "cell_type": "code",
      "execution_count": null,
      "metadata": {
        "id": "7fbNSwj96Jpn",
        "outputId": "aac831b8-4ff3-4763-e258-e8d88ef4c72e"
      },
      "outputs": [
        {
          "name": "stdout",
          "output_type": "stream",
          "text": [
            "left: 0.05737202968126079  right: 0.0568900151070663\n",
            "left: 0.06392975058107626  right: 0.06226250455855267\n",
            "left: 0.06204893545071366  right: 0.0623041981941998\n",
            "left: 0.08880349713983185  right: 0.0954567111634036\n",
            "left: 0.23254723689430673  right: 0.22650768515478878\n",
            "left: 0.5117007861162102  right: 0.5209509495220465\n",
            "left: 0.25917176388025476  right: 0.22806467082473392\n",
            "left: 0.20941040389388893  right: 0.20179437925695154\n",
            "left: 0.07194609999931648  right: 0.058386812723578825\n",
            "left: 0.3070261857490544  right: 0.3187522429770944\n",
            "left: 0.08107260830904243  right: 0.08079800956169937\n",
            "left: 0.08336429725236448  right: 0.08141368325827437\n",
            "left: 0.037746364676904405  right: 0.3018621378261899\n",
            "left: 0.09788683353553781  right: 0.10503385699604\n",
            "left: 0.08734485583832466  right: 0.07218392364849661\n",
            "left: 0.1141744387552136  right: 0.0849865294275891\n",
            "left: 0.07201925786685866  right: 0.08385721035434587\n",
            "left: 0.07971825522327308  right: 0.07785776322765058\n",
            "left: 0.06614338584873604  right: 0.04929544315522222\n",
            "left: 0.06842935401633983  right: 0.07396320370539904\n"
          ]
        }
      ],
      "source": [
        "for i in files[29:49]:\n",
        "    df =pd.read_csv(i)\n",
        "    df = df[df.columns[0]].str.split('\\t',expand=True)\n",
        "    la = df.iloc[:,1].values\n",
        "    la = [float(x) for x in la]\n",
        "    ra = df.iloc[:,2].values\n",
        "    ra = [float(x) for x in ra]\n",
        "    print(f'left: {variation(la)}  right: {variation(ra)}')"
      ]
    },
    {
      "cell_type": "markdown",
      "metadata": {
        "id": "B4FaeEG_6Jpo"
      },
      "source": [
        "# Parkinson's disease"
      ]
    },
    {
      "cell_type": "code",
      "execution_count": null,
      "metadata": {
        "id": "_DPkuWp_6Jpo",
        "outputId": "2485cccf-2efa-4112-b704-32557d8483a1"
      },
      "outputs": [
        {
          "name": "stdout",
          "output_type": "stream",
          "text": [
            "left: 0.036857942844580986  right: 0.042547741548807645\n",
            "left: 0.08211392847964771  right: 0.075750003484511\n",
            "left: 1.4284714126199385  right: 1.23198104216985\n",
            "left: 0.0462874368115263  right: 0.04699400277528589\n",
            "left: 0.09985547603285692  right: 0.09629341504189243\n",
            "left: 0.1240235215702891  right: 0.19240348825106596\n",
            "left: 0.044638218200146  right: 0.03878618038637265\n",
            "left: 0.055350136429149766  right: 0.0556090079936471\n",
            "left: 0.0935575027139399  right: 0.09289644209384786\n",
            "left: 0.06362904126592914  right: 0.0661940947218295\n",
            "left: 0.047624343790557584  right: 0.04924699409405383\n",
            "left: 0.045835215193915486  right: 0.04898796404870522\n",
            "left: 0.4761489907531149  right: 0.28105392167346244\n",
            "left: 0.10256698143935435  right: 0.10663284155535349\n",
            "left: 0.08805623599210062  right: 0.08718589714805033\n"
          ]
        }
      ],
      "source": [
        "for i in files[49:]:\n",
        "    df =pd.read_csv(i)\n",
        "    df = df[df.columns[0]].str.split('\\t',expand=True)\n",
        "    la = df.iloc[:,1].values\n",
        "    la = [float(x) for x in la]\n",
        "    ra = df.iloc[:,2].values\n",
        "    ra = [float(x) for x in ra]\n",
        "    print(f'left: {variation(la)}  right: {variation(ra)}')"
      ]
    }
  ],
  "metadata": {
    "kernelspec": {
      "display_name": "Python 3",
      "language": "python",
      "name": "python3"
    },
    "language_info": {
      "codemirror_mode": {
        "name": "ipython",
        "version": 3
      },
      "file_extension": ".py",
      "mimetype": "text/x-python",
      "name": "python",
      "nbconvert_exporter": "python",
      "pygments_lexer": "ipython3",
      "version": "3.7.4"
    },
    "colab": {
      "name": "variance of 4 disease.ipynb",
      "provenance": []
    }
  },
  "nbformat": 4,
  "nbformat_minor": 0
}